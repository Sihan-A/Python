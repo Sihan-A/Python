{
  "nbformat": 4,
  "nbformat_minor": 0,
  "metadata": {
    "colab": {
      "name": "for\b循环.ipynb",
      "provenance": [],
      "authorship_tag": "ABX9TyNYp4J771LoQo+vXnsbianV",
      "include_colab_link": true
    },
    "kernelspec": {
      "name": "python3",
      "display_name": "Python 3"
    },
    "language_info": {
      "name": "python"
    }
  },
  "cells": [
    {
      "cell_type": "markdown",
      "metadata": {
        "id": "view-in-github",
        "colab_type": "text"
      },
      "source": [
        "<a href=\"https://colab.research.google.com/github/Sihan-A/Python/blob/main/notes/for%08%E5%BE%AA%E7%8E%AF.ipynb\" target=\"_parent\"><img src=\"https://colab.research.google.com/assets/colab-badge.svg\" alt=\"Open In Colab\"/></a>"
      ]
    },
    {
      "cell_type": "markdown",
      "metadata": {
        "id": "zR2XQ4MWGF-p"
      },
      "source": [
        "# for循环"
      ]
    },
    {
      "cell_type": "code",
      "metadata": {
        "colab": {
          "base_uri": "https://localhost:8080/"
        },
        "id": "olg5ugIvFvSg",
        "outputId": "14575d03-606b-4efc-ea76-bbd1f69bd6fd"
      },
      "source": [
        "str1 = 'itheima'\n",
        "for i in str1:\n",
        "    print(i)"
      ],
      "execution_count": 1,
      "outputs": [
        {
          "output_type": "stream",
          "name": "stdout",
          "text": [
            "i\n",
            "t\n",
            "h\n",
            "e\n",
            "i\n",
            "m\n",
            "a\n"
          ]
        }
      ]
    },
    {
      "cell_type": "code",
      "metadata": {
        "colab": {
          "base_uri": "https://localhost:8080/"
        },
        "id": "3sRMJr9IF8rr",
        "outputId": "562b5a12-ac42-4f95-8820-22177d9c8c2f"
      },
      "source": [
        "list(str1)"
      ],
      "execution_count": 2,
      "outputs": [
        {
          "output_type": "execute_result",
          "data": {
            "text/plain": [
              "['i', 't', 'h', 'e', 'i', 'm', 'a']"
            ]
          },
          "metadata": {},
          "execution_count": 2
        }
      ]
    },
    {
      "cell_type": "code",
      "metadata": {
        "id": "rt8Q_COeGaC4",
        "outputId": "948208d9-18d6-4a30-e5c1-ff64e5d6425d",
        "colab": {
          "base_uri": "https://localhost:8080/"
        }
      },
      "source": [
        "str1 = 'itheima'\n",
        "for i in str1:\n",
        "    # 当某些条件成立退出循环 -- break：条件 i取到字符e\n",
        "    if i == 'e':\n",
        "        break\n",
        "    print(i)"
      ],
      "execution_count": 3,
      "outputs": [
        {
          "output_type": "stream",
          "name": "stdout",
          "text": [
            "i\n",
            "t\n",
            "h\n"
          ]
        }
      ]
    },
    {
      "cell_type": "code",
      "metadata": {
        "id": "W2wBmo5mGgJO",
        "outputId": "63b34638-d602-437c-b3b7-24e5d26db71e",
        "colab": {
          "base_uri": "https://localhost:8080/"
        }
      },
      "source": [
        "str1 = 'itheima'\n",
        "for i in str1:\n",
        "    # 当某些条件成立退出循环 -- continue：条件 i取到字符e\n",
        "    if i == 'e':\n",
        "        continue\n",
        "    print(i)"
      ],
      "execution_count": 5,
      "outputs": [
        {
          "output_type": "stream",
          "name": "stdout",
          "text": [
            "i\n",
            "t\n",
            "h\n",
            "i\n",
            "m\n",
            "a\n"
          ]
        }
      ]
    },
    {
      "cell_type": "code",
      "metadata": {
        "id": "lospMWeXGqSJ",
        "outputId": "c8bc7afa-5a6b-45ac-95bc-1b3d3683af4f",
        "colab": {
          "base_uri": "https://localhost:8080/"
        }
      },
      "source": [
        "i = 1\n",
        "while i <= 5:\n",
        "    print('媳妇儿，我错了')\n",
        "    i += 1\n",
        "else:\n",
        "    print('媳妇原谅我了，真开心呐，哈哈哈哈')"
      ],
      "execution_count": 6,
      "outputs": [
        {
          "output_type": "stream",
          "name": "stdout",
          "text": [
            "媳妇儿，我错了\n",
            "媳妇儿，我错了\n",
            "媳妇儿，我错了\n",
            "媳妇儿，我错了\n",
            "媳妇儿，我错了\n",
            "媳妇原谅我了，真开心呐，哈哈哈哈\n"
          ]
        }
      ]
    }
  ]
}