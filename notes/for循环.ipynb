{
  "nbformat": 4,
  "nbformat_minor": 0,
  "metadata": {
    "colab": {
      "name": "for\b循环.ipynb",
      "provenance": [],
      "authorship_tag": "ABX9TyOU8oR2X9LMGeTb1b95T7KF",
      "include_colab_link": true
    },
    "kernelspec": {
      "name": "python3",
      "display_name": "Python 3"
    },
    "language_info": {
      "name": "python"
    }
  },
  "cells": [
    {
      "cell_type": "markdown",
      "metadata": {
        "id": "view-in-github",
        "colab_type": "text"
      },
      "source": [
        "<a href=\"https://colab.research.google.com/github/Sihan-A/Python/blob/main/notes/for%08%E5%BE%AA%E7%8E%AF.ipynb\" target=\"_parent\"><img src=\"https://colab.research.google.com/assets/colab-badge.svg\" alt=\"Open In Colab\"/></a>"
      ]
    },
    {
      "cell_type": "markdown",
      "metadata": {
        "id": "zR2XQ4MWGF-p"
      },
      "source": [
        "# for循环"
      ]
    },
    {
      "cell_type": "code",
      "metadata": {
        "colab": {
          "base_uri": "https://localhost:8080/"
        },
        "id": "olg5ugIvFvSg",
        "outputId": "5d541cbf-edae-4cb0-bdad-3b27ada87574"
      },
      "source": [
        "str1 = 'itheima'\n",
        "for i in str1:\n",
        "    print(i)"
      ],
      "execution_count": 5,
      "outputs": [
        {
          "output_type": "stream",
          "name": "stdout",
          "text": [
            "i\n",
            "t\n",
            "h\n",
            "e\n",
            "i\n",
            "m\n",
            "a\n"
          ]
        }
      ]
    },
    {
      "cell_type": "code",
      "metadata": {
        "colab": {
          "base_uri": "https://localhost:8080/"
        },
        "id": "3sRMJr9IF8rr",
        "outputId": "52d20c70-0e4a-4233-bbd8-9a30ff7dfb3e"
      },
      "source": [
        "list(str1)"
      ],
      "execution_count": 6,
      "outputs": [
        {
          "output_type": "execute_result",
          "data": {
            "text/plain": [
              "['i', 't', 'h', 'e', 'i', 'm', 'a']"
            ]
          },
          "metadata": {},
          "execution_count": 6
        }
      ]
    }
  ]
}